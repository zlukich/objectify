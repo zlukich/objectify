{
 "cells": [
  {
   "cell_type": "code",
   "execution_count": 1,
   "id": "initial_id",
   "metadata": {
    "collapsed": true,
    "ExecuteTime": {
     "end_time": "2024-03-22T08:44:08.199643400Z",
     "start_time": "2024-03-22T08:44:07.926265600Z"
    }
   },
   "outputs": [
    {
     "ename": "ModuleNotFoundError",
     "evalue": "No module named 'trimesh'",
     "output_type": "error",
     "traceback": [
      "\u001B[1;31m---------------------------------------------------------------------------\u001B[0m",
      "\u001B[1;31mModuleNotFoundError\u001B[0m                       Traceback (most recent call last)",
      "Input \u001B[1;32mIn [1]\u001B[0m, in \u001B[0;36m<cell line: 1>\u001B[1;34m()\u001B[0m\n\u001B[1;32m----> 1\u001B[0m \u001B[38;5;28;01mimport\u001B[39;00m \u001B[38;5;21;01mtrimesh\u001B[39;00m\n\u001B[0;32m      2\u001B[0m \u001B[38;5;28;01mimport\u001B[39;00m \u001B[38;5;21;01mmesh_to_sdf\u001B[39;00m \u001B[38;5;28;01mas\u001B[39;00m \u001B[38;5;21;01mmts\u001B[39;00m\n\u001B[0;32m      4\u001B[0m \u001B[38;5;28;01mdef\u001B[39;00m \u001B[38;5;21mwrite_obj\u001B[39m(vertices, output_obj_path\u001B[38;5;241m=\u001B[39m\u001B[38;5;124m'\u001B[39m\u001B[38;5;124mfrog_surface_points.obj\u001B[39m\u001B[38;5;124m'\u001B[39m):\n",
      "\u001B[1;31mModuleNotFoundError\u001B[0m: No module named 'trimesh'"
     ]
    }
   ],
   "source": [
    "import trimesh\n",
    "import mesh_to_sdf as mts\n",
    "\n",
    "def write_obj(vertices, output_obj_path='frog_surface_points.obj'):\n",
    "    with open(output_obj_path, 'w') as obj_file:\n",
    "        for vertex in vertices:\n",
    "            obj_file.write(f'v {vertex[0]} {vertex[1]} {vertex[2]}\\n')\n",
    "\n",
    "    print(f'OBJ file saved to {output_obj_path}')"
   ]
  },
  {
   "cell_type": "code",
   "execution_count": 26,
   "outputs": [],
   "source": [
    "mesh = trimesh.load_mesh(\"./5cm_cube.obj\")"
   ],
   "metadata": {
    "collapsed": false,
    "ExecuteTime": {
     "end_time": "2024-03-18T15:55:10.064122600Z",
     "start_time": "2024-03-18T15:52:28.404500800Z"
    }
   },
   "id": "8914cea11f69b71f"
  },
  {
   "cell_type": "code",
   "execution_count": 10,
   "outputs": [
    {
     "data": {
      "text/plain": "False"
     },
     "execution_count": 10,
     "metadata": {},
     "output_type": "execute_result"
    }
   ],
   "source": [
    "mesh.is_watertight"
   ],
   "metadata": {
    "collapsed": false,
    "ExecuteTime": {
     "end_time": "2024-03-18T14:22:16.945910800Z",
     "start_time": "2024-03-18T14:22:15.811726800Z"
    }
   },
   "id": "5891cd0823048db9"
  },
  {
   "cell_type": "code",
   "execution_count": 27,
   "outputs": [],
   "source": [
    "surface = mts.get_surface_point_cloud(mesh, surface_point_method='scan', bounding_radius=1, scan_count=100, scan_resolution=400, sample_point_count=10000000, calculate_normals=True)"
   ],
   "metadata": {
    "collapsed": false,
    "ExecuteTime": {
     "end_time": "2024-03-18T15:57:37.271598500Z",
     "start_time": "2024-03-18T15:55:10.074176200Z"
    }
   },
   "id": "f756fcaf60762e63"
  },
  {
   "cell_type": "code",
   "execution_count": 28,
   "outputs": [],
   "source": [
    "points = surface.get_random_surface_points(count = 1000000)\n"
   ],
   "metadata": {
    "collapsed": false,
    "ExecuteTime": {
     "end_time": "2024-03-18T15:57:37.355525900Z",
     "start_time": "2024-03-18T15:57:37.279526200Z"
    }
   },
   "id": "9eca99bbb8c29dd5"
  },
  {
   "cell_type": "code",
   "execution_count": 29,
   "outputs": [
    {
     "name": "stdout",
     "output_type": "stream",
     "text": [
      "OBJ file saved to cube_surface.obj\n"
     ]
    }
   ],
   "source": [
    "write_obj(points,\"cube_surface.obj\")"
   ],
   "metadata": {
    "collapsed": false,
    "ExecuteTime": {
     "end_time": "2024-03-18T15:57:40.234855200Z",
     "start_time": "2024-03-18T15:57:37.358121700Z"
    }
   },
   "id": "89289256fe870e68"
  },
  {
   "cell_type": "code",
   "execution_count": 19,
   "outputs": [],
   "source": [
    "scene = trimesh.Scene([surface.mesh])"
   ],
   "metadata": {
    "collapsed": false,
    "ExecuteTime": {
     "end_time": "2024-03-18T14:29:28.253202600Z",
     "start_time": "2024-03-18T14:29:28.245126500Z"
    }
   },
   "id": "d7c73ce9f3c2b81b"
  },
  {
   "cell_type": "code",
   "execution_count": 23,
   "outputs": [],
   "source": [
    "another_scene = trimesh.Scene([points])"
   ],
   "metadata": {
    "collapsed": false,
    "ExecuteTime": {
     "end_time": "2024-03-18T14:31:12.942367Z",
     "start_time": "2024-03-18T14:31:05.331429500Z"
    }
   },
   "id": "8199f8714a9e45d1"
  },
  {
   "cell_type": "code",
   "execution_count": 24,
   "outputs": [
    {
     "ename": "ValueError",
     "evalue": "Can't export empty scenes!",
     "output_type": "error",
     "traceback": [
      "\u001B[1;31m---------------------------------------------------------------------------\u001B[0m",
      "\u001B[1;31mValueError\u001B[0m                                Traceback (most recent call last)",
      "Input \u001B[1;32mIn [24]\u001B[0m, in \u001B[0;36m<module>\u001B[1;34m\u001B[0m\n\u001B[1;32m----> 1\u001B[0m \u001B[43manother_scene\u001B[49m\u001B[38;5;241;43m.\u001B[39;49m\u001B[43mshow\u001B[49m\u001B[43m(\u001B[49m\u001B[43m)\u001B[49m\n",
      "File \u001B[1;32m~\\AppData\\Local\\Programs\\Python\\Python39\\lib\\site-packages\\trimesh\\scene\\scene.py:1286\u001B[0m, in \u001B[0;36mScene.show\u001B[1;34m(self, viewer, **kwargs)\u001B[0m\n\u001B[0;32m   1283\u001B[0m \u001B[38;5;28;01melif\u001B[39;00m viewer \u001B[38;5;241m==\u001B[39m \u001B[38;5;124m\"\u001B[39m\u001B[38;5;124mnotebook\u001B[39m\u001B[38;5;124m\"\u001B[39m:\n\u001B[0;32m   1284\u001B[0m     \u001B[38;5;28;01mfrom\u001B[39;00m \u001B[38;5;21;01m.\u001B[39;00m\u001B[38;5;21;01m.\u001B[39;00m\u001B[38;5;21;01mviewer\u001B[39;00m \u001B[38;5;28;01mimport\u001B[39;00m scene_to_notebook\n\u001B[1;32m-> 1286\u001B[0m     \u001B[38;5;28;01mreturn\u001B[39;00m scene_to_notebook(\u001B[38;5;28mself\u001B[39m, \u001B[38;5;241m*\u001B[39m\u001B[38;5;241m*\u001B[39mkwargs)\n\u001B[0;32m   1287\u001B[0m \u001B[38;5;28;01melif\u001B[39;00m callable(viewer):\n\u001B[0;32m   1288\u001B[0m     \u001B[38;5;66;03m# if a callable method like a custom class\u001B[39;00m\n\u001B[0;32m   1289\u001B[0m     \u001B[38;5;66;03m# constructor was passed run using that\u001B[39;00m\n\u001B[0;32m   1290\u001B[0m     \u001B[38;5;28;01mreturn\u001B[39;00m viewer(\u001B[38;5;28mself\u001B[39m, \u001B[38;5;241m*\u001B[39m\u001B[38;5;241m*\u001B[39mkwargs)\n",
      "File \u001B[1;32m~\\AppData\\Local\\Programs\\Python\\Python39\\lib\\site-packages\\trimesh\\viewer\\notebook.py:72\u001B[0m, in \u001B[0;36mscene_to_notebook\u001B[1;34m(scene, height, **kwargs)\u001B[0m\n\u001B[0;32m     69\u001B[0m \u001B[38;5;28;01mfrom\u001B[39;00m \u001B[38;5;21;01mIPython\u001B[39;00m \u001B[38;5;28;01mimport\u001B[39;00m display\n\u001B[0;32m     71\u001B[0m \u001B[38;5;66;03m# convert scene to a full HTML page\u001B[39;00m\n\u001B[1;32m---> 72\u001B[0m as_html \u001B[38;5;241m=\u001B[39m \u001B[43mscene_to_html\u001B[49m\u001B[43m(\u001B[49m\u001B[43mscene\u001B[49m\u001B[38;5;241;43m=\u001B[39;49m\u001B[43mscene\u001B[49m\u001B[43m)\u001B[49m\n\u001B[0;32m     74\u001B[0m \u001B[38;5;66;03m# escape the quotes in the HTML\u001B[39;00m\n\u001B[0;32m     75\u001B[0m srcdoc \u001B[38;5;241m=\u001B[39m as_html\u001B[38;5;241m.\u001B[39mreplace(\u001B[38;5;124m'\u001B[39m\u001B[38;5;124m\"\u001B[39m\u001B[38;5;124m'\u001B[39m, \u001B[38;5;124m\"\u001B[39m\u001B[38;5;124m&quot;\u001B[39m\u001B[38;5;124m\"\u001B[39m)\n",
      "File \u001B[1;32m~\\AppData\\Local\\Programs\\Python\\Python39\\lib\\site-packages\\trimesh\\viewer\\notebook.py:43\u001B[0m, in \u001B[0;36mscene_to_html\u001B[1;34m(scene)\u001B[0m\n\u001B[0;32m     41\u001B[0m _ \u001B[38;5;241m=\u001B[39m scene\u001B[38;5;241m.\u001B[39mcamera\n\u001B[0;32m     42\u001B[0m \u001B[38;5;66;03m# get export as bytes\u001B[39;00m\n\u001B[1;32m---> 43\u001B[0m data \u001B[38;5;241m=\u001B[39m \u001B[43mscene\u001B[49m\u001B[38;5;241;43m.\u001B[39;49m\u001B[43mexport\u001B[49m\u001B[43m(\u001B[49m\u001B[43mfile_type\u001B[49m\u001B[38;5;241;43m=\u001B[39;49m\u001B[38;5;124;43m\"\u001B[39;49m\u001B[38;5;124;43mglb\u001B[39;49m\u001B[38;5;124;43m\"\u001B[39;49m\u001B[43m)\u001B[49m\n\u001B[0;32m     44\u001B[0m \u001B[38;5;66;03m# encode as base64 string\u001B[39;00m\n\u001B[0;32m     45\u001B[0m encoded \u001B[38;5;241m=\u001B[39m base64\u001B[38;5;241m.\u001B[39mb64encode(data)\u001B[38;5;241m.\u001B[39mdecode(\u001B[38;5;124m\"\u001B[39m\u001B[38;5;124mutf-8\u001B[39m\u001B[38;5;124m\"\u001B[39m)\n",
      "File \u001B[1;32m~\\AppData\\Local\\Programs\\Python\\Python39\\lib\\site-packages\\trimesh\\scene\\scene.py:958\u001B[0m, in \u001B[0;36mScene.export\u001B[1;34m(self, file_obj, file_type, **kwargs)\u001B[0m\n\u001B[0;32m    941\u001B[0m \u001B[38;5;28;01mdef\u001B[39;00m \u001B[38;5;21mexport\u001B[39m(\u001B[38;5;28mself\u001B[39m, file_obj\u001B[38;5;241m=\u001B[39m\u001B[38;5;28;01mNone\u001B[39;00m, file_type\u001B[38;5;241m=\u001B[39m\u001B[38;5;28;01mNone\u001B[39;00m, \u001B[38;5;241m*\u001B[39m\u001B[38;5;241m*\u001B[39mkwargs):\n\u001B[0;32m    942\u001B[0m     \u001B[38;5;124;03m\"\"\"\u001B[39;00m\n\u001B[0;32m    943\u001B[0m \u001B[38;5;124;03m    Export a snapshot of the current scene.\u001B[39;00m\n\u001B[0;32m    944\u001B[0m \n\u001B[1;32m   (...)\u001B[0m\n\u001B[0;32m    956\u001B[0m \u001B[38;5;124;03m      Only returned if file_obj is None\u001B[39;00m\n\u001B[0;32m    957\u001B[0m \u001B[38;5;124;03m    \"\"\"\u001B[39;00m\n\u001B[1;32m--> 958\u001B[0m     \u001B[38;5;28;01mreturn\u001B[39;00m export\u001B[38;5;241m.\u001B[39mexport_scene(\n\u001B[0;32m    959\u001B[0m         scene\u001B[38;5;241m=\u001B[39m\u001B[38;5;28mself\u001B[39m, file_obj\u001B[38;5;241m=\u001B[39mfile_obj, file_type\u001B[38;5;241m=\u001B[39mfile_type, \u001B[38;5;241m*\u001B[39m\u001B[38;5;241m*\u001B[39mkwargs\n\u001B[0;32m    960\u001B[0m     )\n",
      "File \u001B[1;32m~\\AppData\\Local\\Programs\\Python\\Python39\\lib\\site-packages\\trimesh\\exchange\\export.py:242\u001B[0m, in \u001B[0;36mexport_scene\u001B[1;34m(scene, file_obj, file_type, resolver, **kwargs)\u001B[0m\n\u001B[0;32m    225\u001B[0m \u001B[38;5;124;03m\"\"\"\u001B[39;00m\n\u001B[0;32m    226\u001B[0m \u001B[38;5;124;03mExport a snapshot of the current scene.\u001B[39;00m\n\u001B[0;32m    227\u001B[0m \n\u001B[1;32m   (...)\u001B[0m\n\u001B[0;32m    239\u001B[0m \u001B[38;5;124;03m  Only returned if file_obj is None\u001B[39;00m\n\u001B[0;32m    240\u001B[0m \u001B[38;5;124;03m\"\"\"\u001B[39;00m\n\u001B[0;32m    241\u001B[0m \u001B[38;5;28;01mif\u001B[39;00m \u001B[38;5;28mlen\u001B[39m(scene\u001B[38;5;241m.\u001B[39mgeometry) \u001B[38;5;241m==\u001B[39m \u001B[38;5;241m0\u001B[39m:\n\u001B[1;32m--> 242\u001B[0m     \u001B[38;5;28;01mraise\u001B[39;00m \u001B[38;5;167;01mValueError\u001B[39;00m(\u001B[38;5;124m\"\u001B[39m\u001B[38;5;124mCan\u001B[39m\u001B[38;5;124m'\u001B[39m\u001B[38;5;124mt export empty scenes!\u001B[39m\u001B[38;5;124m\"\u001B[39m)\n\u001B[0;32m    244\u001B[0m \u001B[38;5;28;01mif\u001B[39;00m util\u001B[38;5;241m.\u001B[39mis_pathlib(file_obj):\n\u001B[0;32m    245\u001B[0m     \u001B[38;5;66;03m# handle `pathlib` objects by converting to string\u001B[39;00m\n\u001B[0;32m    246\u001B[0m     file_obj \u001B[38;5;241m=\u001B[39m \u001B[38;5;28mstr\u001B[39m(file_obj\u001B[38;5;241m.\u001B[39mabsolute())\n",
      "\u001B[1;31mValueError\u001B[0m: Can't export empty scenes!"
     ]
    }
   ],
   "source": [
    "another_scene.show()"
   ],
   "metadata": {
    "collapsed": false,
    "ExecuteTime": {
     "end_time": "2024-03-18T14:31:17.016952500Z",
     "start_time": "2024-03-18T14:31:16.840920700Z"
    }
   },
   "id": "1b77fad77900a6bc"
  },
  {
   "cell_type": "code",
   "execution_count": null,
   "outputs": [],
   "source": [],
   "metadata": {
    "collapsed": false
   },
   "id": "b8ff8feda81de148"
  }
 ],
 "metadata": {
  "kernelspec": {
   "display_name": "Python 3",
   "language": "python",
   "name": "python3"
  },
  "language_info": {
   "codemirror_mode": {
    "name": "ipython",
    "version": 2
   },
   "file_extension": ".py",
   "mimetype": "text/x-python",
   "name": "python",
   "nbconvert_exporter": "python",
   "pygments_lexer": "ipython2",
   "version": "2.7.6"
  }
 },
 "nbformat": 4,
 "nbformat_minor": 5
}
