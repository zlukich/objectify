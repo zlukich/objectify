{
 "cells": [
  {
   "cell_type": "code",
   "execution_count": 2,
   "id": "966a7ba2",
   "metadata": {
    "ExecuteTime": {
     "end_time": "2024-03-15T12:05:08.142619900Z",
     "start_time": "2024-03-15T12:05:08.114227Z"
    }
   },
   "outputs": [
    {
     "ename": "ModuleNotFoundError",
     "evalue": "No module named 'cloudComPy'",
     "output_type": "error",
     "traceback": [
      "\u001b[1;31m---------------------------------------------------------------------------\u001b[0m",
      "\u001b[1;31mModuleNotFoundError\u001b[0m                       Traceback (most recent call last)",
      "Cell \u001b[1;32mIn[2], line 1\u001b[0m\n\u001b[1;32m----> 1\u001b[0m \u001b[38;5;28;01mimport\u001b[39;00m \u001b[38;5;21;01mcloudComPy\u001b[39;00m \u001b[38;5;28;01mas\u001b[39;00m \u001b[38;5;21;01mcc\u001b[39;00m\n",
      "\u001b[1;31mModuleNotFoundError\u001b[0m: No module named 'cloudComPy'"
     ]
    }
   ],
   "source": [
    "import cloudComPy as cc"
   ]
  },
  {
   "cell_type": "code",
   "execution_count": 7,
   "id": "6ad8fd241db4d4a9",
   "metadata": {
    "ExecuteTime": {
     "end_time": "2024-03-15T15:36:47.565162600Z",
     "start_time": "2024-03-15T15:36:47.552488900Z"
    },
    "collapsed": false
   },
   "outputs": [
    {
     "data": {
      "text/plain": [
       "0.0014"
      ]
     },
     "execution_count": 7,
     "metadata": {},
     "output_type": "execute_result"
    }
   ],
   "source": [
    "0.014/10"
   ]
  },
  {
   "cell_type": "code",
   "execution_count": null,
   "id": "d3c00dad",
   "metadata": {},
   "outputs": [],
   "source": [
    "import numpy as np\n",
    "from scipy.spatial.transform import Rotation\n",
    "from simpleicp import SimpleICP, PointCloud\n",
    "def compute_similarity_transform(src_points, dst_points):\n",
    "    \"\"\"\n",
    "    Compute similarity transformation matrix based on corresponding points.\n",
    "    \n",
    "    Parameters:\n",
    "        src_points (ndarray): Source point cloud, Nx3 array.\n",
    "        dst_points (ndarray): Destination point cloud, Nx3 array.\n",
    "        \n",
    "    Returns:\n",
    "        similarity_matrix (ndarray): 4x4 similarity transformation matrix.\n",
    "    \"\"\"\n",
    "    # Compute centroids\n",
    "    src_centroid = np.mean(src_points, axis=0)\n",
    "    dst_centroid = np.mean(dst_points, axis=0)\n",
    "    \n",
    "    # Center the point clouds\n",
    "    src_centered = src_points - src_centroid\n",
    "    dst_centered = dst_points - dst_centroid\n",
    "    \n",
    "    # Compute scale\n",
    "    scale = np.linalg.norm(dst_centered) / np.linalg.norm(src_centered)\n",
    "    \n",
    "    # Compute rotation using SVD\n",
    "    H = np.dot(src_centered.T, dst_centered)\n",
    "    U, _, Vt = np.linalg.svd(H)\n",
    "    R = np.dot(Vt.T, U.T)\n",
    "    \n",
    "    # Construct similarity transformation matrix\n",
    "    similarity_matrix = np.eye(4)\n",
    "    similarity_matrix[:3, :3] = R * scale\n",
    "    similarity_matrix[:3, 3] = dst_centroid - np.dot(similarity_matrix[:3, :3], src_centroid)\n",
    "    \n",
    "    return similarity_matrix\n",
    "\n",
    "def apply_similarity_transform(points, similarity_matrix):\n",
    "    \"\"\"\n",
    "    Apply similarity transformation to a set of points.\n",
    "    \n",
    "    Parameters:\n",
    "        points (ndarray): Point cloud, Nx3 array.\n",
    "        similarity_matrix (ndarray): 4x4 similarity transformation matrix.\n",
    "        \n",
    "    Returns:\n",
    "        transformed_points (ndarray): Transformed point cloud, Nx3 array.\n",
    "    \"\"\"\n",
    "    homogeneous_points = np.hstack([points, np.ones((points.shape[0], 1))])\n",
    "    transformed_points = np.dot(homogeneous_points, similarity_matrix.T)[:, :3]\n",
    "    return transformed_points"
   ]
  },
  {
   "cell_type": "code",
   "execution_count": 1,
   "id": "7de9cb16",
   "metadata": {
    "ExecuteTime": {
     "end_time": "2024-03-15T15:47:15.722511800Z",
     "start_time": "2024-03-15T15:47:15.651187400Z"
    }
   },
   "outputs": [
    {
     "ename": "NameError",
     "evalue": "name 'cc' is not defined",
     "output_type": "error",
     "traceback": [
      "\u001b[1;31m---------------------------------------------------------------------------\u001b[0m",
      "\u001b[1;31mNameError\u001b[0m                                 Traceback (most recent call last)",
      "Cell \u001b[1;32mIn[1], line 1\u001b[0m\n\u001b[1;32m----> 1\u001b[0m distTest1 \u001b[38;5;241m=\u001b[39m \u001b[43mcc\u001b[49m\u001b[38;5;241m.\u001b[39mloadPointCloud(\u001b[38;5;124m\"\u001b[39m\u001b[38;5;124mdistTest1.bin\u001b[39m\u001b[38;5;124m\"\u001b[39m)\n\u001b[0;32m      2\u001b[0m distTest2 \u001b[38;5;241m=\u001b[39m cc\u001b[38;5;241m.\u001b[39mloadPointCloud(\u001b[38;5;124m\"\u001b[39m\u001b[38;5;124mdistTest2.bin\u001b[39m\u001b[38;5;124m\"\u001b[39m)\n",
      "\u001b[1;31mNameError\u001b[0m: name 'cc' is not defined"
     ]
    }
   ],
   "source": [
    "distTest1 = cc.loadPointCloud(\"distTest1.bin\")\n",
    "distTest2 = cc.loadPointCloud(\"distTest2.bin\")"
   ]
  },
  {
   "cell_type": "code",
   "execution_count": 4,
   "id": "b09277df",
   "metadata": {},
   "outputs": [],
   "source": [
    "\n",
    "distTest1.deleteAllScalarFields()"
   ]
  },
  {
   "cell_type": "code",
   "execution_count": 5,
   "id": "832635ea",
   "metadata": {},
   "outputs": [],
   "source": [
    "\n",
    "bestOctreeLevel = cc.DistanceComputationTools.determineBestOctreeLevel(distTest1, None, distTest2)\n",
    "params = cc.Cloud2CloudDistancesComputationParams()\n",
    "params.maxThreadCount = 12\n",
    "params.octreeLevel = bestOctreeLevel\n",
    "stats = cc.DistanceComputationTools.computeCloud2CloudDistances(distTest1, distTest2, params)"
   ]
  },
  {
   "cell_type": "code",
   "execution_count": 6,
   "id": "d250d7ed",
   "metadata": {
    "scrolled": true
   },
   "outputs": [],
   "source": [
    "dic = distTest1.getScalarFieldDic()\n",
    "sf = distTest1.getScalarField(dic['C2C absolute distances'])"
   ]
  },
  {
   "cell_type": "code",
   "execution_count": 7,
   "id": "daae77e8",
   "metadata": {},
   "outputs": [],
   "source": [
    "distances = sf.toNpArray()"
   ]
  },
  {
   "cell_type": "code",
   "execution_count": 8,
   "id": "3db47e5b",
   "metadata": {},
   "outputs": [
    {
     "data": {
      "text/plain": [
       "{'Approx. distances': 0, 'C2C absolute distances': 1}"
      ]
     },
     "execution_count": 8,
     "metadata": {},
     "output_type": "execute_result"
    }
   ],
   "source": [
    "dic"
   ]
  },
  {
   "cell_type": "code",
   "execution_count": 9,
   "id": "046dc3a4",
   "metadata": {},
   "outputs": [],
   "source": [
    "distTest1.setCurrentDisplayedScalarField(1)"
   ]
  },
  {
   "cell_type": "code",
   "execution_count": 10,
   "id": "d478a56a",
   "metadata": {},
   "outputs": [
    {
     "data": {
      "text/plain": [
       "<_cloudComPy.ccScalarField at 0x1eaf415ce30>"
      ]
     },
     "execution_count": 10,
     "metadata": {},
     "output_type": "execute_result"
    }
   ],
   "source": [
    "distTest1.getCurrentDisplayedScalarField()"
   ]
  },
  {
   "cell_type": "code",
   "execution_count": 11,
   "id": "a77fe751",
   "metadata": {},
   "outputs": [],
   "source": [
    "cola = distTest1.convertCurrentScalarFieldToColors()"
   ]
  },
  {
   "cell_type": "code",
   "execution_count": 12,
   "id": "cf9e60f9",
   "metadata": {},
   "outputs": [],
   "source": [
    "cola = distTest1.colorsToNpArray()"
   ]
  },
  {
   "cell_type": "code",
   "execution_count": 13,
   "id": "04140dae",
   "metadata": {},
   "outputs": [],
   "source": [
    "points = distTest1.toNpArrayCopy()"
   ]
  },
  {
   "cell_type": "code",
   "execution_count": 14,
   "id": "cd7c5e85",
   "metadata": {},
   "outputs": [
    {
     "data": {
      "text/plain": [
       "(40964, 4)"
      ]
     },
     "execution_count": 14,
     "metadata": {},
     "output_type": "execute_result"
    }
   ],
   "source": [
    "cola.shape"
   ]
  },
  {
   "cell_type": "code",
   "execution_count": 66,
   "id": "353b2208",
   "metadata": {},
   "outputs": [
    {
     "data": {
      "text/html": [
       "\n",
       "        <iframe\n",
       "            width=\"100%\"\n",
       "            height=\"650\"\n",
       "            src=\"http://127.0.0.1:8050/\"\n",
       "            frameborder=\"0\"\n",
       "            allowfullscreen\n",
       "            \n",
       "        ></iframe>\n",
       "        "
      ],
      "text/plain": [
       "<IPython.lib.display.IFrame at 0x239bb5c3ee0>"
      ]
     },
     "metadata": {},
     "output_type": "display_data"
    }
   ],
   "source": [
    "import dash\n",
    "from dash import dcc, html\n",
    "import plotly.graph_objs as go\n",
    "import numpy as np\n",
    "\n",
    "# Create sample data\n",
    "np.random.seed(0)\n",
    "num_points = 100\n",
    "x = np.random.randn(num_points)\n",
    "y = np.random.randn(num_points)\n",
    "z = np.random.randn(num_points)\n",
    "color_data = cola  # Random color data in (r, g, b, alpha) format\n",
    "\n",
    "# Initialize Dash app\n",
    "app = dash.Dash(__name__)\n",
    "\n",
    "# Define app layout\n",
    "app.layout = html.Div([\n",
    "    dcc.Graph(\n",
    "        id='3d-scatter-plot',\n",
    "        figure={\n",
    "            'data': [\n",
    "                go.Scatter3d(\n",
    "                    x=points[:,0],\n",
    "                    y=points[:,1],\n",
    "                    z=points[:,2],\n",
    "                    mode='markers',\n",
    "                    marker=dict(\n",
    "                        size=1,\n",
    "                        color=distances,  # Set color based on color data\n",
    "                        opacity=0.8,\n",
    "                        colorscale='Viridis',  # Set color scale\n",
    "                        colorbar=dict(title='Color Legend')  # Add color legend\n",
    "                    )\n",
    "                )\n",
    "            ],\n",
    "            'layout': go.Layout(\n",
    "                title='3D Scatter Plot',\n",
    "                scene=dict(\n",
    "                    xaxis=dict(title='X'),\n",
    "                    yaxis=dict(title='Y'),\n",
    "                    zaxis=dict(title='Z')\n",
    "                )\n",
    "            )\n",
    "        }\n",
    "    )\n",
    "])\n",
    "\n",
    "# Run the Dash app\n",
    "if __name__ == '__main__':\n",
    "    app.run_server(debug=True)"
   ]
  },
  {
   "cell_type": "code",
   "execution_count": 12,
   "id": "18e48af1",
   "metadata": {},
   "outputs": [],
   "source": [
    "stats = cc.DistanceComputationTools.computeApproxCloud2CloudDistance(distTest1,distTest2)"
   ]
  },
  {
   "cell_type": "code",
   "execution_count": 13,
   "id": "53a49a7d",
   "metadata": {},
   "outputs": [
    {
     "data": {
      "text/plain": [
       "[0.0,\n",
       " 0.008171586319804192,\n",
       " 0.000772103201597929,\n",
       " 9.77202375906927e-07,\n",
       " 0.00027735461480915546]"
      ]
     },
     "execution_count": 13,
     "metadata": {},
     "output_type": "execute_result"
    }
   ],
   "source": [
    "stats"
   ]
  },
  {
   "cell_type": "code",
   "execution_count": 15,
   "id": "3317846c",
   "metadata": {},
   "outputs": [],
   "source": [
    "distTest1.setCurrentDisplayedScalarField(1)"
   ]
  },
  {
   "cell_type": "code",
   "execution_count": 16,
   "id": "c05a3a92",
   "metadata": {},
   "outputs": [
    {
     "data": {
      "text/plain": [
       "True"
      ]
     },
     "execution_count": 16,
     "metadata": {},
     "output_type": "execute_result"
    }
   ],
   "source": [
    "distTest1.convertCurrentScalarFieldToColors()"
   ]
  },
  {
   "cell_type": "code",
   "execution_count": 19,
   "id": "b20bb96f",
   "metadata": {},
   "outputs": [],
   "source": [
    "distTest1.showColors(True)"
   ]
  },
  {
   "cell_type": "code",
   "execution_count": 23,
   "id": "19546d1f",
   "metadata": {},
   "outputs": [
    {
     "ename": "TypeError",
     "evalue": "M3C2guessParamsToFile(): incompatible function arguments. The following argument types are supported:\n    1. (arg0: List[_cloudComPy.ccHObject], arg1: QString, arg2: bool) -> bool\n\nInvoked with: [<_cloudComPy.ccPointCloud object at 0x000001A255272CF0>, <_cloudComPy.ccPointCloud object at 0x000001A2552E9C30>], 'm3c2params.bin'",
     "output_type": "error",
     "traceback": [
      "\u001b[1;31m---------------------------------------------------------------------------\u001b[0m",
      "\u001b[1;31mTypeError\u001b[0m                                 Traceback (most recent call last)",
      "Cell \u001b[1;32mIn[23], line 2\u001b[0m\n\u001b[0;32m      1\u001b[0m \u001b[38;5;28;01mimport\u001b[39;00m \u001b[38;5;21;01mcloudComPy\u001b[39;00m\u001b[38;5;21;01m.\u001b[39;00m\u001b[38;5;21;01mM3C2\u001b[39;00m\n\u001b[1;32m----> 2\u001b[0m params \u001b[38;5;241m=\u001b[39m \u001b[43mcc\u001b[49m\u001b[38;5;241;43m.\u001b[39;49m\u001b[43mM3C2\u001b[49m\u001b[38;5;241;43m.\u001b[39;49m\u001b[43mM3C2guessParamsToFile\u001b[49m\u001b[43m(\u001b[49m\u001b[43m[\u001b[49m\u001b[43mdistTest1\u001b[49m\u001b[43m,\u001b[49m\u001b[43mdistTest2\u001b[49m\u001b[43m]\u001b[49m\u001b[43m,\u001b[49m\u001b[38;5;124;43m\"\u001b[39;49m\u001b[38;5;124;43mm3c2params.bin\u001b[39;49m\u001b[38;5;124;43m\"\u001b[39;49m\u001b[43m)\u001b[49m\n",
      "\u001b[1;31mTypeError\u001b[0m: M3C2guessParamsToFile(): incompatible function arguments. The following argument types are supported:\n    1. (arg0: List[_cloudComPy.ccHObject], arg1: QString, arg2: bool) -> bool\n\nInvoked with: [<_cloudComPy.ccPointCloud object at 0x000001A255272CF0>, <_cloudComPy.ccPointCloud object at 0x000001A2552E9C30>], 'm3c2params.bin'"
     ]
    }
   ],
   "source": [
    "\n",
    "import cloudComPy.M3C2\n",
    "params = cc.M3C2.M3C2guessParamsToFile([distTest1,distTest2],\"m3c2params.bin\")"
   ]
  },
  {
   "cell_type": "code",
   "execution_count": 63,
   "id": "4c515478",
   "metadata": {},
   "outputs": [
    {
     "data": {
      "text/html": [
       "\n",
       "        <iframe\n",
       "            width=\"100%\"\n",
       "            height=\"650\"\n",
       "            src=\"http://127.0.0.1:8050/\"\n",
       "            frameborder=\"0\"\n",
       "            allowfullscreen\n",
       "            \n",
       "        ></iframe>\n",
       "        "
      ],
      "text/plain": [
       "<IPython.lib.display.IFrame at 0x239bc20b2b0>"
      ]
     },
     "metadata": {},
     "output_type": "display_data"
    }
   ],
   "source": [
    "import dash\n",
    "from dash import dcc, html\n",
    "import plotly.graph_objs as go\n",
    "import numpy as np\n",
    "\n",
    "# Create sample data\n",
    "np.random.seed(0)\n",
    "num_points = 100\n",
    "x = np.random.randn(num_points)\n",
    "y = np.random.randn(num_points)\n",
    "z = np.random.randn(num_points)\n",
    "distances = np.random.rand(num_points)  # Random distances\n",
    "\n",
    "# Define color scale (Viridis) for distances\n",
    "color_scale = 'Viridis'\n",
    "\n",
    "# Initialize Dash app\n",
    "app = dash.Dash(__name__)\n",
    "\n",
    "# Define app layout\n",
    "app.layout = html.Div([\n",
    "    dcc.Graph(\n",
    "        id='3d-scatter-plot',\n",
    "        figure={\n",
    "            'data': [\n",
    "                go.Scatter3d(\n",
    "                    x=x,\n",
    "                    y=y,\n",
    "                    z=z,\n",
    "                    mode='markers',\n",
    "                    marker=dict(\n",
    "                        size=5,\n",
    "                        color=distances,  # Set color based on distances\n",
    "                        colorscale=color_scale,  # Set color scale\n",
    "                        opacity=0.8,\n",
    "                        colorbar=dict(title='Distance', tickvals=[0, 0.5, 1], ticktext=['Low', 'Medium', 'High'])  # Add color legend\n",
    "                    )\n",
    "                )\n",
    "            ],\n",
    "            'layout': go.Layout(\n",
    "                title='3D Scatter Plot',\n",
    "                scene=dict(\n",
    "                    xaxis=dict(title='X'),\n",
    "                    yaxis=dict(title='Y'),\n",
    "                    zaxis=dict(title='Z')\n",
    "                )\n",
    "            )\n",
    "        }\n",
    "    )\n",
    "])\n",
    "\n",
    "# Run the Dash app\n",
    "if __name__ == '__main__':\n",
    "    app.run_server(debug=True)"
   ]
  },
  {
   "cell_type": "code",
   "execution_count": null,
   "id": "f0fdecaf",
   "metadata": {},
   "outputs": [],
   "source": []
  }
 ],
 "metadata": {
  "kernelspec": {
   "display_name": "CloudComPy310",
   "language": "python",
   "name": "python3"
  },
  "language_info": {
   "codemirror_mode": {
    "name": "ipython",
    "version": 3
   },
   "file_extension": ".py",
   "mimetype": "text/x-python",
   "name": "python",
   "nbconvert_exporter": "python",
   "pygments_lexer": "ipython3",
   "version": "3.10.8"
  }
 },
 "nbformat": 4,
 "nbformat_minor": 5
}
